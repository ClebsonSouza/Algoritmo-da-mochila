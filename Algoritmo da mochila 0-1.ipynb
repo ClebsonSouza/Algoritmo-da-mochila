{
 "cells": [
  {
   "cell_type": "markdown",
   "id": "a27b3e14",
   "metadata": {},
   "source": [
    "Você pode resolver este problema usando a técnica de programação dinâmica chamada \"mochila 0-1\", que é usada para maximizar o valor dos itens que podem ser colocados em uma mochila com uma capacidade limitada. Neste caso, a capacidade da mochila é 500, e o valor de cada item é dado pela lista de ações. O objetivo é selecionar um subconjunto desses itens cuja soma não ultrapasse 500 e seja a maior possível.\n",
    "\n",
    "Aqui está um exemplo de código que implementa o algoritmo da mochila 0-1 para resolver esse problema:\n",
    "Neste código, a lista valor representa o valor máximo que pode ser obtido para cada capacidade da mochila, e a lista escolhidos guarda a combinação de ações correspondente a cada valor máximo. O loop externo itera sobre todas as ações, e o loop interno itera sobre todas as capacidades da mochila de capacidade até acoes[i]. Para cada capacidade j, o código calcula o valor máximo que pode ser obtido selecionando a ação i e adicionando o valor máximo que pode ser obtido com a capacidade restante j - acoes[i]. Se esse valor máximo for maior do que o valor máximo atual de j, atualiza-se o valor máximo de j e a combinação de ações correspondente.\n",
    "\n",
    "Ao final do código, imprime-se o valor máximo que pode ser obtido e a combinação de ações correspondente.\n"
   ]
  },
  {
   "cell_type": "code",
   "execution_count": 1,
   "id": "fef33e30",
   "metadata": {},
   "outputs": [
    {
     "name": "stdout",
     "output_type": "stream",
     "text": [
      "Valor máximo: 500\n",
      "Combinação: [50, 150, 210, 90]\n"
     ]
    }
   ],
   "source": [
    "import time\n",
    "acoes = [50, 100, 150, 30, 210, 90, 15, 120]\n",
    "capacidade = 500\n",
    "\n",
    "n = len(acoes)\n",
    "valor = [0] * (capacidade + 1)\n",
    "\n",
    "escolhidos = [[] for _ in range(capacidade + 1)]\n",
    "\n",
    "for i in range(n):\n",
    "    for j in range(capacidade, acoes[i] - 1, -1):\n",
    "        novo_valor = valor[j - acoes[i]] + acoes[i]       \n",
    "        if novo_valor > valor[j]:\n",
    "            valor[j] = novo_valor\n",
    "            escolhidos[j] = escolhidos[j - acoes[i]] + [acoes[i]]\n",
    "\n",
    "print(\"Valor máximo:\", valor[capacidade])\n",
    "print(\"Combinação:\", escolhidos[capacidade])"
   ]
  }
 ],
 "metadata": {
  "kernelspec": {
   "display_name": "Python 3 (ipykernel)",
   "language": "python",
   "name": "python3"
  },
  "language_info": {
   "codemirror_mode": {
    "name": "ipython",
    "version": 3
   },
   "file_extension": ".py",
   "mimetype": "text/x-python",
   "name": "python",
   "nbconvert_exporter": "python",
   "pygments_lexer": "ipython3",
   "version": "3.11.5"
  }
 },
 "nbformat": 4,
 "nbformat_minor": 5
}

{
 "cells": [
  {
   "cell_type": "markdown",
   "id": "a27b3e14",
   "metadata": {},
   "source": [
    "É possível resolver este problema usando a técnica de programação dinâmica chamada \"mochila 0-1\", que é usada para maximizar o valor dos itens que podem ser colocados em uma mochila com uma capacidade limitada. Neste caso, a capacidade da mochila é 500, e o valor de cada item é dado pela lista de ações. O objetivo é selecionar um subconjunto desses itens cuja soma não ultrapasse 500 e seja a maior possível.\n",
    "\n",
    "Aqui está um exemplo de código que implementa o algoritmo da mochila 0-1 para resolver esse problema:\n",
    "Neste código, a lista valor representa o valor máximo que pode ser obtido para cada capacidade da mochila, e a lista escolhidos guarda a combinação de ações correspondente a cada valor máximo. O loop externo itera sobre todas as ações, e o loop interno itera sobre todas as capacidades da mochila de capacidade até acoes[i]. Para cada capacidade j, o código calcula o valor máximo que pode ser obtido selecionando a ação i e adicionando o valor máximo que pode ser obtido com a capacidade restante j - acoes[i]. Se esse valor máximo for maior do que o valor máximo atual de j, atualiza-se o valor máximo de j e a combinação de ações correspondente.\n",
    "\n",
    "Ao final do código, imprime-se o valor máximo que pode ser obtido e a combinação de ações correspondente.\n"
   ]
  },
  {
   "cell_type": "code",
   "execution_count": 10,
   "id": "fef33e30",
   "metadata": {},
   "outputs": [
    {
     "name": "stdout",
     "output_type": "stream",
     "text": [
      "Valor máximo: 700\n",
      "Combinação: [100, 150, 30, 210, 90, 120]\n"
     ]
    }
   ],
   "source": [
    "### ESTRUTURA ###\n",
    "acoes = [50, 100, 150, 30, 210, 90, 15, 120]\n",
    "capacidade = 700\n",
    "\n",
    "n = len(acoes)\n",
    "valor = [0] * (capacidade + 1)\n",
    "\n",
    "escolhidos = [[] for _ in range(capacidade + 1)]\n",
    "\n",
    "for i in range(n):\n",
    "    for j in range(capacidade, acoes[i] - 1, -1):\n",
    "        novo_valor = valor[j - acoes[i]] + acoes[i]       \n",
    "        if novo_valor > valor[j]:\n",
    "            valor[j] = novo_valor\n",
    "            escolhidos[j] = escolhidos[j - acoes[i]] + [acoes[i]]\n",
    "\n",
    "print(\"Valor máximo:\", valor[capacidade])\n",
    "print(\"Combinação:\", escolhidos[capacidade])"
   ]
  },
  {
   "cell_type": "markdown",
   "id": "e077053d",
   "metadata": {},
   "source": [
    "### 1. Gestão de Estoques\n",
    "Problema:\n",
    "\n",
    "Um armazém tem capacidade limitada de 1200 unidades de volume e deve armazenar produtos que maximizem o valor total armazenado. Os produtos disponíveis têm os seguintes volumes e valores:"
   ]
  },
  {
   "cell_type": "code",
   "execution_count": 9,
   "id": "1c2ea7b7",
   "metadata": {},
   "outputs": [
    {
     "name": "stdout",
     "output_type": "stream",
     "text": [
      "Valor máximo: 760\n",
      "Combinação: [('Produto A', 50, 60), ('Produto B', 100, 100), ('Produto C', 150, 120), ('Produto D', 30, 40), ('Produto E', 210, 200), ('Produto F', 90, 80), ('Produto G', 15, 10), ('Produto H', 120, 150)]\n"
     ]
    }
   ],
   "source": [
    "produtos = [(\"Produto A\", 50, 60), (\"Produto B\", 100, 100), (\"Produto C\", 150, 120), \n",
    "            (\"Produto D\", 30, 40), (\"Produto E\", 210, 200), (\"Produto F\", 90, 80), \n",
    "            (\"Produto G\", 15, 10), (\"Produto H\", 120, 150)]\n",
    "capacidade = 1200\n",
    "\n",
    "n = len(produtos)\n",
    "valor = [0] * (capacidade + 1)\n",
    "escolhidos = [[] for _ in range(capacidade + 1)]\n",
    "\n",
    "for i in range(n):\n",
    "    volume, val = produtos[i][1], produtos[i][2]\n",
    "    for j in range(capacidade, volume - 1, -1):\n",
    "        novo_valor = valor[j - volume] + val\n",
    "        if novo_valor > valor[j]:\n",
    "            valor[j] = novo_valor\n",
    "            escolhidos[j] = escolhidos[j - volume] + [produtos[i]]\n",
    "\n",
    "print(\"Valor máximo:\", valor[capacidade])\n",
    "print(\"Combinação:\", escolhidos[capacidade])"
   ]
  },
  {
   "cell_type": "markdown",
   "id": "8123fd9c",
   "metadata": {},
   "source": [
    "### 2. Planejamento de Investimentos\n",
    "Problema:\n",
    "\n",
    "Um investidor tem um orçamento de 900 unidades monetárias e deseja investir em ações que maximizem o retorno total. As ações disponíveis têm os seguintes custos e retornos:"
   ]
  },
  {
   "cell_type": "code",
   "execution_count": 11,
   "id": "42b21e14",
   "metadata": {},
   "outputs": [
    {
     "name": "stdout",
     "output_type": "stream",
     "text": [
      "Retorno máximo: 760\n",
      "Combinação: [('Ação A', 50, 60), ('Ação B', 100, 100), ('Ação C', 150, 120), ('Ação D', 30, 40), ('Ação E', 210, 200), ('Ação F', 90, 80), ('Ação G', 15, 10), ('Ação H', 120, 150)]\n"
     ]
    }
   ],
   "source": [
    "acoes = [(\"Ação A\", 50, 60), (\"Ação B\", 100, 100), (\"Ação C\", 150, 120), \n",
    "         (\"Ação D\", 30, 40), (\"Ação E\", 210, 200), (\"Ação F\", 90, 80), \n",
    "         (\"Ação G\", 15, 10), (\"Ação H\", 120, 150)]\n",
    "orcamento = 900\n",
    "\n",
    "n = len(acoes)\n",
    "retorno = [0] * (orcamento + 1)\n",
    "escolhidos = [[] for _ in range(orcamento + 1)]\n",
    "\n",
    "for i in range(n):\n",
    "    custo, ret = acoes[i][1], acoes[i][2]\n",
    "    for j in range(orcamento, custo - 1, -1):\n",
    "        novo_retorno = retorno[j - custo] + ret\n",
    "        if novo_retorno > retorno[j]:\n",
    "            retorno[j] = novo_retorno\n",
    "            escolhidos[j] = escolhidos[j - custo] + [acoes[i]]\n",
    "\n",
    "print(\"Retorno máximo:\", retorno[orcamento])\n",
    "print(\"Combinação:\", escolhidos[orcamento])"
   ]
  },
  {
   "cell_type": "markdown",
   "id": "7810c41a",
   "metadata": {},
   "source": [
    "### 3. Alocação de Recursos\n",
    "Problema:\n",
    "\n",
    "Uma empresa precisa alocar 700 horas de trabalho em diferentes projetos para maximizar o valor total dos projetos concluídos. Os projetos têm as seguintes durações e valores:"
   ]
  },
  {
   "cell_type": "code",
   "execution_count": 12,
   "id": "d7e53139",
   "metadata": {},
   "outputs": [
    {
     "name": "stdout",
     "output_type": "stream",
     "text": [
      "Valor máximo: 690\n",
      "Combinação: [('Projeto B', 100, 100), ('Projeto C', 150, 120), ('Projeto D', 30, 40), ('Projeto E', 210, 200), ('Projeto F', 90, 80), ('Projeto H', 120, 150)]\n"
     ]
    }
   ],
   "source": [
    "projetos = [(\"Projeto A\", 50, 60), (\"Projeto B\", 100, 100), (\"Projeto C\", 150, 120), \n",
    "            (\"Projeto D\", 30, 40), (\"Projeto E\", 210, 200), (\"Projeto F\", 90, 80), \n",
    "            (\"Projeto G\", 15, 10), (\"Projeto H\", 120, 150)]\n",
    "tempo_disponivel = 700\n",
    "\n",
    "n = len(projetos)\n",
    "valor = [0] * (tempo_disponivel + 1)\n",
    "escolhidos = [[] for _ in range(tempo_disponivel + 1)]\n",
    "\n",
    "for i in range(n):\n",
    "    duracao, val = projetos[i][1], projetos[i][2]\n",
    "    for j in range(tempo_disponivel, duracao - 1, -1):\n",
    "        novo_valor = valor[j - duracao] + val\n",
    "        if novo_valor > valor[j]:\n",
    "            valor[j] = novo_valor\n",
    "            escolhidos[j] = escolhidos[j - duracao] + [projetos[i]]\n",
    "\n",
    "print(\"Valor máximo:\", valor[tempo_disponivel])\n",
    "print(\"Combinação:\", escolhidos[tempo_disponivel])\n"
   ]
  },
  {
   "cell_type": "markdown",
   "id": "e8de57a5",
   "metadata": {},
   "source": [
    "### 4. Planejamento de Produção\n",
    "Problema:\n",
    "\n",
    "Uma fábrica deseja selecionar produtos para fabricação que maximizem o lucro total, respeitando as limitações de capacidade de produção de 200 unidades de matéria-prima. Os produtos têm os seguintes requisitos de matéria-prima e lucros:"
   ]
  },
  {
   "cell_type": "code",
   "execution_count": 7,
   "id": "960c0035",
   "metadata": {},
   "outputs": [
    {
     "name": "stdout",
     "output_type": "stream",
     "text": [
      "Lucro máximo: 250\n",
      "Combinação: [('Produto A', 50, 60), ('Produto D', 30, 40), ('Produto H', 120, 150)]\n"
     ]
    }
   ],
   "source": [
    "produtos = [(\"Produto A\", 50, 60), (\"Produto B\", 100, 100), (\"Produto C\", 150, 120), \n",
    "            (\"Produto D\", 30, 40), (\"Produto E\", 210, 200), (\"Produto F\", 90, 80), \n",
    "            (\"Produto G\", 15, 10), (\"Produto H\", 120, 150)]\n",
    "capacidade = 200\n",
    "\n",
    "n = len(produtos)\n",
    "lucro = [0] * (capacidade + 1)\n",
    "escolhidos = [[] for _ in range(capacidade + 1)]\n",
    "\n",
    "for i in range(n):\n",
    "    materia_prima, luc = produtos[i][1], produtos[i][2]\n",
    "    for j in range(capacidade, materia_prima - 1, -1):\n",
    "        novo_lucro = lucro[j - materia_prima] + luc\n",
    "        if novo_lucro > lucro[j]:\n",
    "            lucro[j] = novo_lucro\n",
    "            escolhidos[j] = escolhidos[j - materia_prima] + [produtos[i]]\n",
    "\n",
    "print(\"Lucro máximo:\", lucro[capacidade])\n",
    "print(\"Combinação:\", escolhidos[capacidade])"
   ]
  },
  {
   "cell_type": "markdown",
   "id": "1355e7b3",
   "metadata": {},
   "source": [
    "Esses exemplos mostram como o algoritmo da mochila pode ser aplicado a diferentes problemas de negócios para otimizar a alocação de recursos limitados e maximizar o valor ou lucro total."
   ]
  }
 ],
 "metadata": {
  "kernelspec": {
   "display_name": "Python 3 (ipykernel)",
   "language": "python",
   "name": "python3"
  },
  "language_info": {
   "codemirror_mode": {
    "name": "ipython",
    "version": 3
   },
   "file_extension": ".py",
   "mimetype": "text/x-python",
   "name": "python",
   "nbconvert_exporter": "python",
   "pygments_lexer": "ipython3",
   "version": "3.11.5"
  }
 },
 "nbformat": 4,
 "nbformat_minor": 5
}
